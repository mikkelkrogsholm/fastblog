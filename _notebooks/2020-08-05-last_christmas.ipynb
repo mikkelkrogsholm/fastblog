{
 "cells": [
  {
   "cell_type": "markdown",
   "metadata": {},
   "source": [
    "# Last Christmas I gave you my heart\n",
    "> TLDR; There is no such thing as a summer classic - but plenty of christmas classics!\n",
    "\n",
    "- toc:true\n",
    "- branch: master\n",
    "- badges: false\n",
    "- comments: true\n",
    "- author: Mikkel Freltoft Krogsholm\n",
    "- categories: [spotify, charts, christmas, summer, R, jupyter]"
   ]
  },
  {
   "cell_type": "markdown",
   "metadata": {},
   "source": [
    "This blogpost looks at music. \n",
    "\n",
    "I have downloaded most of the chart data from [spotifycharts](https://spotifycharts.com/) and stored them in a SQLite database. \n",
    "\n",
    "Specifically I will look at \"seasonal classics\". It turns out that there are no summer classics - only christmas classics. It looks like Summer Hits are temporary and fleeing where Christmas songs are more permanent. "
   ]
  },
  {
   "cell_type": "markdown",
   "metadata": {},
   "source": [
    "### Setup\n",
    "\n",
    "First I load the needed libraries and created a connection to my local database with music."
   ]
  },
  {
   "cell_type": "code",
   "execution_count": 1,
   "metadata": {},
   "outputs": [],
   "source": [
    "suppressPackageStartupMessages(library(tidyverse))\n",
    "library(RSQLite)\n",
    "\n",
    "options(repr.plot.width=15, repr.plot.height=7.5, scipen = 999)\n",
    "\n",
    "con <- dbConnect(RSQLite::SQLite(), \"spotify.db\")"
   ]
  },
  {
   "cell_type": "markdown",
   "metadata": {},
   "source": [
    "### Collect the data\n",
    "\n",
    "I will look a three countries: Germany (de), Denmark (dk) and Great Britain (gb). And then create a plot that shows how many Christmas songs are the same year on year, but summer songs are not."
   ]
  },
  {
   "cell_type": "code",
   "execution_count": 2,
   "metadata": {},
   "outputs": [],
   "source": [
    "# Make a reference to the table in the DB\n",
    "tblref <- tbl(con, \"top200\")"
   ]
  },
  {
   "cell_type": "code",
   "execution_count": null,
   "metadata": {},
   "outputs": [],
   "source": [
    "# Collect the data\n",
    "dfhere <- tblref %>%\n",
    "    filter(region %in% c(\"de\", \"dk\", \"gb\")) %>% # filter relevant countries\n",
    "    mutate(m = str_sub(date, 6, 7), # create a month column\n",
    "           y = str_sub(date, 1, 4), # create a year column\n",
    "           ym = paste(y,m)) %>% # create a yearmonth  column\n",
    "    group_by(region, y, m, ym, `Track Name`, Artist, URL) %>% # Group by region, track and year month\n",
    "    summarise(streams = sum(Streams, na.rm = TRUE)) %>% # sum up the streams for a track per year month \n",
    "    ungroup() %>% # ungroup\n",
    "    collect() # Import the data into R's memory\n",
    "\n",
    "# Lets have a look at the first few lines\n",
    "head(dfhere)"
   ]
  },
  {
   "cell_type": "markdown",
   "metadata": {},
   "source": [
    "With the monthly data now in memory I will pick the top 100 tracks per month"
   ]
  },
  {
   "cell_type": "code",
   "execution_count": null,
   "metadata": {},
   "outputs": [],
   "source": [
    "top <- dfhere %>%\n",
    "    group_by(region, y, m, ym) %>%\n",
    "    top_n(n = 100, wt = streams) %>%\n",
    "    ungroup()\n",
    "\n",
    "# yms <- top$ym %>% unique() %>% sort()\n",
    "# top$ym <- factor(top$ym, levels = yms)\n",
    "\n",
    "head(top)"
   ]
  },
  {
   "cell_type": "markdown",
   "metadata": {},
   "source": [
    "Now we need to divide the data into different data frames. We need these to create the visualization."
   ]
  },
  {
   "cell_type": "code",
   "execution_count": null,
   "metadata": {},
   "outputs": [],
   "source": [
    "# First I create a table with repeaters, i.e. with songs that appear in the same month across the years more than once:\n",
    "repeaters <- top %>%\n",
    "    group_by(region) %>%\n",
    "    count(m, `Track Name`, Artist, URL) %>%\n",
    "    filter(n > 1) %>%\n",
    "    select(region, URL) %>%\n",
    "    ungroup()\n",
    "\n",
    "# Then I filter the data to only contain data for the repeathers\n",
    "toprep <- top %>%\n",
    "    inner_join(repeaters, by = c(\"region\", \"URL\"))\n",
    "\n",
    "# Then I create a table with the songs that have max hits in december\n",
    "xmasmax <- toprep %>%\n",
    "    group_by(region, URL) %>%\n",
    "    filter(streams == max(streams),\n",
    "           m == 12) %>%\n",
    "    select(region, URL) %>%\n",
    "    ungroup()\n",
    "\n",
    "# And use this table to create a data frame for repeater songs where\n",
    "# the most streams are not in december\n",
    "noxmas <- toprep %>% anti_join(xmasmax, by = c(\"region\", \"URL\")) %>% distinct()\n",
    "\n",
    "# And a dataframe where most streams are in december\n",
    "xmas <- toprep %>% inner_join(xmasmax, by = c(\"region\", \"URL\")) %>% distinct()\n",
    "\n",
    "head(xmas)"
   ]
  },
  {
   "cell_type": "markdown",
   "metadata": {},
   "source": [
    "### Visualize the data"
   ]
  },
  {
   "cell_type": "markdown",
   "metadata": {},
   "source": [
    "#### Year on year repeaters\n",
    "Let's first look at the songs that repeat year on year. As you can see the songs normally have a more or less sharp rise and then a long slow decline. It is this decline that makes it possible for the song to appear in the same months year on year, although on a very different scale. "
   ]
  },
  {
   "cell_type": "code",
   "execution_count": null,
   "metadata": {},
   "outputs": [],
   "source": [
    "# I need a little helper to create pretty x-axis on the charts\n",
    "yms <- top$ym %>% unique() %>% sort()\n",
    "yms_labs <- str_c(str_sub(yms, -2,-1), \" '\", str_sub(yms, 3, 4))\n",
    "yms_df <- top %>% distinct(ym)"
   ]
  },
  {
   "cell_type": "code",
   "execution_count": null,
   "metadata": {},
   "outputs": [],
   "source": [
    "ggplot() + \n",
    "    # Then I plot the non-xmas data in green\n",
    "    geom_line(data = noxmas, aes(ym, streams, group = URL), show.legend = FALSE, color = \"darkgreen\", \n",
    "              linetype = \"dashed\", alpha = .4) + \n",
    "    geom_point(data = noxmas, aes(ym, streams, group = URL), show.legend = FALSE, color = \"darkgreen\", \n",
    "               alpha = .4) + \n",
    "    \n",
    "    # And some chart styling\n",
    "    scale_x_discrete(labels = yms_labs, limits = yms) + \n",
    "    theme_minimal() + \n",
    "    theme(axis.text.x = element_text(angle = 45)) +\n",
    "    facet_wrap(facets = ~ region, ncol = 1, scales = \"free_y\") +\n",
    "    labs(x = \"\", y = \"Streams per month\")"
   ]
  },
  {
   "cell_type": "markdown",
   "metadata": {},
   "source": [
    "#### Christmas repeaters\n",
    "It looks a bit different if we plot the Christmas songs. It becomes very obvious that the Christmas repeaters are limited to Christmas. They also do not follow the same path as the other songs (sharp increase, long slow decrease). They come to life pretty high on the charts in december (some in november) and then they quickly die out and wait for Christmas to come again. I have marked decemberr with a red dashed line."
   ]
  },
  {
   "cell_type": "code",
   "execution_count": null,
   "metadata": {},
   "outputs": [],
   "source": [
    "ggplot() + \n",
    "\n",
    "    # First I create a vertical red dashed line for every december month\n",
    "    geom_vline(xintercept = c(\"2017 12\", \"2018 12\", \"2019 12\"), linetype = \"dashed\", color = \"red\") +\n",
    "    \n",
    "    # And the christmas data in blue\n",
    "    geom_line(data = xmas, aes(ym, streams, group = URL), show.legend = FALSE, color = \"blue\", \n",
    "              alpha = .5) + \n",
    "    geom_point(data = xmas, aes(ym, streams, group = URL), show.legend = FALSE, color = \"blue\", \n",
    "               alpha = .9) + \n",
    "    \n",
    "    # And some chart styling\n",
    "    scale_x_discrete(labels = yms_labs, limits = yms) + \n",
    "    theme_minimal() + \n",
    "    theme(axis.text.x = element_text(angle = 45)) +\n",
    "    facet_wrap(facets = ~ region, ncol = 1, scales = \"free_y\") +\n",
    "    labs(x = \"\", y = \"Streams per month\")"
   ]
  },
  {
   "cell_type": "markdown",
   "metadata": {},
   "source": [
    "#### Plotted together\n",
    "When plotted together the difference becomes obvious."
   ]
  },
  {
   "cell_type": "code",
   "execution_count": null,
   "metadata": {},
   "outputs": [],
   "source": [
    "ggplot() + \n",
    "    # First I create a vertical red dashed line for every december month\n",
    "    geom_vline(xintercept = c(\"2017 12\", \"2018 12\", \"2019 12\"), linetype = \"dashed\", color = \"red\") +\n",
    "    \n",
    "    # Then I plot the non-xmas data in green\n",
    "    geom_line(data = noxmas, aes(ym, streams, group = URL), show.legend = FALSE, color = \"darkgreen\", \n",
    "              linetype = \"dashed\", alpha = .4) + \n",
    "    geom_point(data = noxmas, aes(ym, streams, group = URL), show.legend = FALSE, color = \"darkgreen\", \n",
    "               alpha = .4) + \n",
    "    \n",
    "    # And the christmas data in blue\n",
    "    geom_line(data = xmas, aes(ym, streams, group = URL), show.legend = FALSE, color = \"blue\", \n",
    "              alpha = .5) + \n",
    "    geom_point(data = xmas, aes(ym, streams, group = URL), show.legend = FALSE, color = \"blue\", \n",
    "               alpha = .9) + \n",
    "    \n",
    "    # And some chart styling\n",
    "    scale_x_discrete(labels = yms_labs, limits = yms) + \n",
    "    theme_minimal() + \n",
    "    theme(axis.text.x = element_text(angle = 45)) +\n",
    "    facet_wrap(facets = ~ region, ncol = 1, scales = \"free_y\") +\n",
    "    labs(x = \"\", y = \"Streams per month\")"
   ]
  },
  {
   "cell_type": "markdown",
   "metadata": {},
   "source": [
    "### Interpretation\n",
    "\n",
    "#### Non Christmas\n",
    "We see a few non-christmas songs that make it more than a year - ie they appear in the same month i more than one year. But, they show a much different trend than the christmas songs. They have a pattern of popularity and then a fade out. \n",
    "\n",
    "#### Christmas\n",
    "With the Christmas songs we see a whole different pattern. First we see more of them, ie there are more survivors year on year. Second the pattern is quite different; the songs lie dormant pretty much all year and then suddenly they explode in december. Some even get an early listen in november, where the must christmas enthusiastic people get started. "
   ]
  },
  {
   "cell_type": "markdown",
   "metadata": {},
   "source": [
    "## Conlusion\n",
    "There is no such thing as a summer classic - but plenty of christmas classics!"
   ]
  },
  {
   "cell_type": "code",
   "execution_count": null,
   "metadata": {},
   "outputs": [],
   "source": []
  }
 ],
 "metadata": {
  "kernelspec": {
   "display_name": "R",
   "language": "R",
   "name": "ir"
  },
  "language_info": {
   "codemirror_mode": "r",
   "file_extension": ".r",
   "mimetype": "text/x-r-source",
   "name": "R",
   "pygments_lexer": "r",
   "version": "3.6.3"
  }
 },
 "nbformat": 4,
 "nbformat_minor": 4
}
